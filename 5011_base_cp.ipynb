{
 "cells": [
  {
   "cell_type": "code",
   "execution_count": 1,
   "id": "ae16ddbe",
   "metadata": {},
   "outputs": [],
   "source": [
    "import pandas as pd\n",
    "import pyperclip\n",
    "import os\n",
    "import numpy as np"
   ]
  },
  {
   "cell_type": "code",
   "execution_count": 2,
   "id": "bdb088b3",
   "metadata": {},
   "outputs": [],
   "source": [
    "dt_ini = pd.Timestamp('2018-01-01')\n",
    "dt_fim = pd.Timestamp('2025-12-31')\n",
    "PALAVRAS_CHAVE = PALAVRAS_CHAVE = [\"Vlr\", \"Valor\", \"vlr\", \"valor\", \"Vr\", \"vr\", \n",
    "                  \"base\", \"Base\", \"Salário\", \"Salario\", \"salário\", \n",
    "                  \"salario\", \"Provento\", \"provento\", \"Desconto\", \"desconto\", \n",
    "                  \"diferenca\", \"Diferenca\", \"diferença\", \"Diferença\"]"
   ]
  },
  {
   "cell_type": "code",
   "execution_count": 3,
   "id": "94a2c7d5",
   "metadata": {},
   "outputs": [],
   "source": [
    "# Leitura do parquet\n",
    "df = pd.read_parquet('C:\\\\AFL_GABRIEL\\\\csv_parser\\\\DATA\\\\sis\\\\s5011_base_cp')\n",
    "\n",
    "# Filtro pelo ano da coluna 'periodo_de_apuracao'\n",
    "ano_ini = dt_ini.year\n",
    "ano_fim = dt_fim.year\n",
    "\n",
    "df_filtrado = df[\n",
    "    df['periodo_de_apuracao'].str[:4].astype(int).between(ano_ini, ano_fim)\n",
    "].copy()"
   ]
  },
  {
   "cell_type": "code",
   "execution_count": 4,
   "id": "e947837f",
   "metadata": {},
   "outputs": [
    {
     "name": "stdout",
     "output_type": "stream",
     "text": [
      "\n",
      "✅ Resultado copiado para a área de transferência!\n"
     ]
    }
   ],
   "source": [
    "# 5011\n",
    "\n",
    "num_linhas, num_colunas = df_filtrado.shape\n",
    "resultado = f\"🔹 Total de Linhas: {num_linhas}\\n🔹 Total de Colunas: {num_colunas}\\n\\n📊 Detalhes das Colunas:\\n\"\n",
    "\n",
    "for coluna in df_filtrado.columns:\n",
    "    linhas_preenchidas = df_filtrado[coluna].count()  # Conta valores não nulos\n",
    "    \n",
    "    # Verifica se a coluna está na lista de palavras-chave\n",
    "    if any(palavra.lower() in coluna.lower() for palavra in PALAVRAS_CHAVE):\n",
    "            # Soma\n",
    "            soma_valores = (\n",
    "                df_filtrado[coluna]\n",
    "                .replace('', np.nan)\n",
    "                .astype(float)\n",
    "                .sum(skipna=True)\n",
    "            )\n",
    "\n",
    "            # Exibição em formato brasileiro\n",
    "            valor_formatado = f\"{soma_valores:,.2f}\".replace(\",\", \"X\").replace(\".\", \",\").replace(\"X\", \".\")\n",
    "\n",
    "            resultado += f\"\\n📌 Coluna: {coluna} (🔄 Convertida para Float e Substituição de '.' por ',')\\n\"\n",
    "            resultado += f\"   🔹 Linhas Preenchidas: {linhas_preenchidas}\\n\"\n",
    "            resultado += f\"   🔹 Total Somado: {soma_valores:,.2f}\\n\"\n",
    "    else:\n",
    "        resultado += f\"\\n📌 Coluna: {coluna}\\n\"\n",
    "        resultado += f\"   🔹 Linhas Preenchidas: {linhas_preenchidas}\\n\"\n",
    "\n",
    "# Copiar para a área de transferência\n",
    "pyperclip.copy(resultado)\n",
    "\n",
    "# Exibir os resultados\n",
    "print(\"\\n✅ Resultado copiado para a área de transferência!\")"
   ]
  }
 ],
 "metadata": {
  "kernelspec": {
   "display_name": "venv",
   "language": "python",
   "name": "python3"
  },
  "language_info": {
   "codemirror_mode": {
    "name": "ipython",
    "version": 3
   },
   "file_extension": ".py",
   "mimetype": "text/x-python",
   "name": "python",
   "nbconvert_exporter": "python",
   "pygments_lexer": "ipython3",
   "version": "3.12.7"
  }
 },
 "nbformat": 4,
 "nbformat_minor": 5
}
